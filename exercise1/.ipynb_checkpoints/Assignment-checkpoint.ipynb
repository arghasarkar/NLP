{
 "cells": [
  {
   "cell_type": "code",
   "execution_count": 15,
   "metadata": {},
   "outputs": [
    {
     "name": "stdout",
     "output_type": "stream",
     "text": [
      "{\"id\":\"09344ca2-fdcc-4de3-9424-1b201e3da9ea\",\"content\":\"Tim Ernst grew up in Williamsville playing video games like \\u201cMega Man\\u201d and \\u201cThe Legend of Zelda\\u201d on his console, and \\u201cUltima\\u201d and \\u201cWarcraft\\u201d... Read\\u2026 \\r \\nTim Ernst grew up in Williamsville playing video games like \\u201cMega Man\\u201d and \\u201cThe Legend of Zelda\\u201d on his console, and \\u201cUltima\\u201d and \\u201cWarcraft\\u201d on his computer. \\n\\n\\u201cI loved them. They were something I just saw so much potential in,\\u201d Ernst said. \\u201cIt was always heartbreaking to play a game that was terrible. And if you played one that was amazing, it was just an unbelievable experience. \\n\\n\\u201d \\n\\nToday, he gets to play \\u2013 and design, and develop \\u2013 video games for a living. Ernst, 34, is general manager of Kabam Games, where he oversees about 100 employees in the company\\u2019s San Francisco development studio. \\n\\nHe\\u2019s playing a leading role in the company\\u2019s latest mobile game, \\u201cStar Wars: Uprising,\\u201d which came out Thursday and is tied to the eagerly awaited next installment in the \\u201cStar Wars\\u201d movie franchise, set for release in December. \\n\\nKabam has found a niche in making interactive, role-playing games for smartphones and tablets. The games are free to download and play but offer users the chance to pay for additional items within the game. \\n\\nIt\\u2019s one segment of the massive, highly competitive video-game market, in which Ernst got his start with an internship at Ubisoft while studying at Yale University. He later worked at Sega of America and Bedlam Games before joining Kabam four years ago. \\n\\nThe Canisius High School graduate spoke to The News during a recent trip to Western New York, where he visited family and tried to squeeze in stops at Duff\\u2019s Famous Wings, Gabriel\\u2019s Gate, Mighty Taco, Wegmans and other hometown favorites. \\n\\nQ: Is making video games work? \\n\\nA: Clearly we\\u2019re not just playing games. We, to a certain extent, do rocket science inside of video games. But it\\u2019s sure enjoyable \\u2013 it\\u2019s an industry full of passionate people. \\n\\nQ: Kabam\\u2019s niche is in role-playing games, or RPGs, for mobile devices. What are they? \\n\\nA: A role-playing game is really a video game world. It\\u2019s got to be complete, with people you talk to, a story. But your character, your customization, your choices, as well as how you interact with both people in the game, and other people playing the game, is what makes the genre unique. \\n\\nQ: Are role-playing games a small part of the market compared to console and PC games? \\n\\nA: No, it is it not a small segment of the overall industry. In fact, multiple games last year made over $1 billion themselves. So, there has been success. And the people that have been successful have stayed at the top for a long period of time. It\\u2019s also a growth market because of international \\u2013 specifically China. China\\u2019s a huge market that console games, traditional games, have not been able to break into. \\n\\nQ: How do you provide the immersed gaming experience you get from playing on a desktop or console to people playing on their phones? \\n\\nA: That\\u2019s one of the things that we\\u2019re trying to pioneer. We just released a game seven months ago called \\u201cMarvel: Contest of Champions,\\u201d which is a fighting game that had some light story elements. And really it\\u2019s about making it a game \\u2013 it\\u2019s not a mobile game being an apology. So we\\u2019re trying to push more the true, classic video game experiences inside of a phone. And that does mean that if we\\u2019re making an RPG (role playing game), we have to tell our story a little differently \\u2013 our pacing\\u2019s very different. \\n\\nQ: \\u201cStar Wars: Uprising\\u201d will be free to download and play. How does Kabam make money through the game? \\n\\nA: The basis of free to play is everybody can download it because we want as many people as possible to start playing it. And, really, the core of free play is being able to offer people what we call \\u201cpay against the grind.\\u201d So if you want to do something in the game, and it\\u2019s going to take you a couple of extra hours \\u2013 it\\u2019s not like a timer, but let\\u2019s say I have to run 10 dungeons \\u2013 there\\u2019s a route to kind of make that a lot shorter. It\\u2019s optional. \\n\\nQ: How does the game fit within the \\u201cStar Wars\\u201d storyline? \\n\\nA: \\u201cStar Wars: Uprising\\u201d is set in the Anoat Sector, which you could call the \\u201cEmpire Strikes Back\\u201d sector. So it\\u2019s Hoth, Cloud City, the planets around there. And it\\u2019s right after \\u201cReturn of the Jedi.\\u201d So this is time that nobody has explored in games. Basically, after the emperor, Death Star II, and the emperor is killed, the governor of the system, Governor Adelhard, basically puts an iron blockade down. Now, he\\u2019s an imperialist. He believes that what the Empire\\u2019s doing is truly great for the galaxy. And he puts a blockade that prevents trade, that prevents rebel propaganda. But ultimately you\\u2019re pushing back against Adelhard\\u2019s iron blockade. And there\\u2019s five factions. The Rebel Alliance is one of the factions. \\n\\nQ: Is it completely open-ended, or is there a way to win the game? \\n\\nA: I don\\u2019t know that there\\u2019s winning, because it\\u2019s a living world. But clearly you want to win, you want to beat the Empire. And we don\\u2019t really look at it as just a game or a packaged product. This is a service, and we want to create the Star Wars community, the place for everyone to live their \\u201cStar Wars\\u201d dream. So how you push back against the Empire is part of the game, and one of the parts that will evolve. And as the community reacts, t\\u2026\",\"title\":\"A video game fan brings \\u2018Star Wars\\u2019 to your smartphone\",\"media-type\":\"News\",\"source\":\"MyInforms\",\"published\":\"2015-09-13T02:09:48Z\"}\n",
      "\n",
      "-----parsed-----\n",
      "Tim Ernst grew up in Williamsville playing video games like “Mega Man” and “The Legend of Zelda” on his console, and “Ultima” and “Warcraft”... Read… \r",
      " \n",
      "Tim Ernst grew up in Williamsville playing video games like “Mega Man” and “The Legend of Zelda” on his console, and “Ultima” and “Warcraft” on his computer. \n",
      "\n",
      "“I loved them. They were something I just saw so much potential in,” Ernst said. “It was always heartbreaking to play a game that was terrible. And if you played one that was amazing, it was just an unbelievable experience. \n",
      "\n",
      "” \n",
      "\n",
      "Today, he gets to play – and design, and develop – video games for a living. Ernst, 34, is general manager of Kabam Games, where he oversees about 100 employees in the company’s San Francisco development studio. \n",
      "\n",
      "He’s playing a leading role in the company’s latest mobile game, “Star Wars: Uprising,” which came out Thursday and is tied to the eagerly awaited next installment in the “Star Wars” movie franchise, set for release in December. \n",
      "\n",
      "Kabam has found a niche in making interactive, role-playing games for smartphones and tablets. The games are free to download and play but offer users the chance to pay for additional items within the game. \n",
      "\n",
      "It’s one segment of the massive, highly competitive video-game market, in which Ernst got his start with an internship at Ubisoft while studying at Yale University. He later worked at Sega of America and Bedlam Games before joining Kabam four years ago. \n",
      "\n",
      "The Canisius High School graduate spoke to The News during a recent trip to Western New York, where he visited family and tried to squeeze in stops at Duff’s Famous Wings, Gabriel’s Gate, Mighty Taco, Wegmans and other hometown favorites. \n",
      "\n",
      "Q: Is making video games work? \n",
      "\n",
      "A: Clearly we’re not just playing games. We, to a certain extent, do rocket science inside of video games. But it’s sure enjoyable – it’s an industry full of passionate people. \n",
      "\n",
      "Q: Kabam’s niche is in role-playing games, or RPGs, for mobile devices. What are they? \n",
      "\n",
      "A: A role-playing game is really a video game world. It’s got to be complete, with people you talk to, a story. But your character, your customization, your choices, as well as how you interact with both people in the game, and other people playing the game, is what makes the genre unique. \n",
      "\n",
      "Q: Are role-playing games a small part of the market compared to console and PC games? \n",
      "\n",
      "A: No, it is it not a small segment of the overall industry. In fact, multiple games last year made over $1 billion themselves. So, there has been success. And the people that have been successful have stayed at the top for a long period of time. It’s also a growth market because of international – specifically China. China’s a huge market that console games, traditional games, have not been able to break into. \n",
      "\n",
      "Q: How do you provide the immersed gaming experience you get from playing on a desktop or console to people playing on their phones? \n",
      "\n",
      "A: That’s one of the things that we’re trying to pioneer. We just released a game seven months ago called “Marvel: Contest of Champions,” which is a fighting game that had some light story elements. And really it’s about making it a game – it’s not a mobile game being an apology. So we’re trying to push more the true, classic video game experiences inside of a phone. And that does mean that if we’re making an RPG (role playing game), we have to tell our story a little differently – our pacing’s very different. \n",
      "\n",
      "Q: “Star Wars: Uprising” will be free to download and play. How does Kabam make money through the game? \n",
      "\n",
      "A: The basis of free to play is everybody can download it because we want as many people as possible to start playing it. And, really, the core of free play is being able to offer people what we call “pay against the grind.” So if you want to do something in the game, and it’s going to take you a couple of extra hours – it’s not like a timer, but let’s say I have to run 10 dungeons – there’s a route to kind of make that a lot shorter. It’s optional. \n",
      "\n",
      "Q: How does the game fit within the “Star Wars” storyline? \n",
      "\n",
      "A: “Star Wars: Uprising” is set in the Anoat Sector, which you could call the “Empire Strikes Back” sector. So it’s Hoth, Cloud City, the planets around there. And it’s right after “Return of the Jedi.” So this is time that nobody has explored in games. Basically, after the emperor, Death Star II, and the emperor is killed, the governor of the system, Governor Adelhard, basically puts an iron blockade down. Now, he’s an imperialist. He believes that what the Empire’s doing is truly great for the galaxy. And he puts a blockade that prevents trade, that prevents rebel propaganda. But ultimately you’re pushing back against Adelhard’s iron blockade. And there’s five factions. The Rebel Alliance is one of the factions. \n",
      "\n",
      "Q: Is it completely open-ended, or is there a way to win the game? \n",
      "\n",
      "A: I don’t know that there’s winning, because it’s a living world. But clearly you want to win, you want to beat the Empire. And we don’t really look at it as just a game or a packaged product. This is a service, and we want to create the Star Wars community, the place for everyone to live their “Star Wars” dream. So how you push back against the Empire is part of the game, and one of the parts that will evolve. And as the community reacts, t…\n",
      "---chars---\n",
      "[0, 76, 153, 229, 328, 543, 860, 1083, 1453, 1496, 1648, 2932, 3556, 4751, 5059]\n"
     ]
    }
   ],
   "source": [
    "import json\n",
    "\n",
    "\n",
    "def find(s, ch):\n",
    "    return [i for i, ltr in enumerate(s) if ltr == ch]\n",
    "\n",
    "\n",
    "\n",
    "file_path = \"signal-news1/signal-news1.jsonl\"\n",
    "\n",
    "with open(file_path, \"r\") as f:\n",
    "    i = 0\n",
    "    for line in f:\n",
    "        print(line)\n",
    "        parsed_json_line = json.loads(line)\n",
    "        print(\"-----parsed-----\")\n",
    "        print(parsed_json_line[\"content\"])\n",
    "        print(\"---chars---\")\n",
    "        print(find(parsed_json_line[\"content\"], \"T\"))\n",
    "        if i >= 0:\n",
    "            break\n",
    "        i += 1\n",
    " \n"
   ]
  },
  {
   "cell_type": "code",
   "execution_count": null,
   "metadata": {},
   "outputs": [],
   "source": []
  }
 ],
 "metadata": {
  "kernelspec": {
   "display_name": "Python 3",
   "language": "python",
   "name": "python3"
  },
  "language_info": {
   "codemirror_mode": {
    "name": "ipython",
    "version": 3
   },
   "file_extension": ".py",
   "mimetype": "text/x-python",
   "name": "python",
   "nbconvert_exporter": "python",
   "pygments_lexer": "ipython3",
   "version": "3.7.0"
  }
 },
 "nbformat": 4,
 "nbformat_minor": 2
}
