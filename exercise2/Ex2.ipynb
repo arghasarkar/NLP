{
 "cells": [
  {
   "cell_type": "markdown",
   "metadata": {},
   "source": [
    "### NLTK Path\n",
    "\n",
    "The code cell below is used for setting the NLTK path on DCS machines and Joshua. On my personal computer where this assignment was done, I had downloaded the NLTK corpus using **nltk.download()**\n"
   ]
  },
  {
   "cell_type": "code",
   "execution_count": 22,
   "metadata": {},
   "outputs": [],
   "source": [
    "import getpass\n",
    "username = getpass.getuser()\n",
    "\n",
    "if username is not \"ArghaWin10\" or username is not \"arghasarkar\":\n",
    "    import nltk\n",
    "    nltk.data.path.append('/modules/cs918/nltk_data/')\n"
   ]
  },
  {
   "cell_type": "markdown",
   "metadata": {},
   "source": [
    "# Sanity check\n",
    "\n",
    "Sanity check to ensure that the file exists before proceeding further"
   ]
  },
  {
   "cell_type": "code",
   "execution_count": 1,
   "metadata": {},
   "outputs": [
    {
     "name": "stdout",
     "output_type": "stream",
     "text": [
      "The file has been found.\n"
     ]
    }
   ],
   "source": [
    "#!/usr/bin/env python3\n",
    "# -*- coding: utf-8 -*-\n",
    "import testsets\n",
    "import evaluation\n",
    "\n",
    "from os.path import normpath\n",
    "import os\n",
    "\n",
    "# TODO: load training data\n",
    "FILE_NAME = \"./twitter-dev-data.txt\"\n",
    "\n",
    "if os.path.isfile(FILE_NAME):\n",
    "    print(\"The file has been found.\")\n",
    "else:\n",
    "    raise IOError(\"File not found.\")"
   ]
  },
  {
   "cell_type": "markdown",
   "metadata": {},
   "source": [
    "# Sample object\n",
    "\n",
    "This sample object will contain the tweet_id, sentiment and the tweet content. "
   ]
  },
  {
   "cell_type": "code",
   "execution_count": 35,
   "metadata": {},
   "outputs": [
    {
     "data": {
      "text/plain": [
       "' \\nTest code below. IGNORE -------\\n'"
      ]
     },
     "execution_count": 35,
     "metadata": {},
     "output_type": "execute_result"
    }
   ],
   "source": [
    "\n",
    "class Tweet:\n",
    "    \n",
    "    def __init__(self, raw_str):\n",
    "        \n",
    "        self.raw_str = raw_str\n",
    "        self.tweet_id, self.sentiment, self.tweet = self.parse_raw_tweet()\n",
    "        \n",
    "    \n",
    "    def parse_raw_tweet(self):\n",
    "        parts = self.raw_str.split(\"\\t\")\n",
    "        return parts[0], parts[1], parts[2]\n",
    "    \n",
    "    \n",
    "    def __str__(self):\n",
    "        return (\"Tweet ID: {} Sentiment: {} Tweet: {}\".format(str(self.tweet_id), self.sentiment, self.tweet))\n",
    "    \n",
    "\n",
    "''' \n",
    "Test code below. IGNORE -------\n",
    "'''\n",
    "# rt1 = \"735752723159607191\tpositive\tShay with Bentley and Bella, in their sunday best :) http://t.co/SUMZBSTrkW\"\n",
    "# rt2 = \"529243425878060644\tnegative\tDear MSM, CNN bitches, every election one turning point..there you go again I will not use my opponents youth & NOW \\\"basket of deplorables\\\"\"\n",
    "\n",
    "# t1 = Tweet(rt1)\n",
    "# t2 = Tweet(rt2)\n",
    "\n",
    "# print(t1)\n",
    "# print(t2)"
   ]
  },
  {
   "cell_type": "markdown",
   "metadata": {},
   "source": [
    "# Corpus \n",
    "\n",
    "Corpus object to read the data and preprocess it"
   ]
  },
  {
   "cell_type": "code",
   "execution_count": 21,
   "metadata": {},
   "outputs": [
    {
     "name": "stdout",
     "output_type": "stream",
     "text": [
      "The file has been found.\n",
      "2000\n",
      "2000\n",
      "Number of training samples: 2000.\n"
     ]
    }
   ],
   "source": [
    "import json\n",
    "import itertools\n",
    "\n",
    "from nltk.tokenize import word_tokenize, wordpunct_tokenize, sent_tokenize\n",
    "\n",
    "class Corpus:\n",
    "    \n",
    "    def __init__(self, file_path):\n",
    "        # Private vars\n",
    "        self._corpus_loaded = False\n",
    "#         self._corpus_parsed = False\n",
    "#         self._sentence_tokenized = False\n",
    "        \n",
    "#         self._document_view_pointer = 0\n",
    "        \n",
    "        self.file_path = file_path \n",
    "        # Checks if the file exists\n",
    "        if os.path.isfile(self.file_path):\n",
    "            print(\"The file has been found.\")\n",
    "        else:\n",
    "            raise IOError(\"File not found.\")\n",
    "        \n",
    "        self.raw_docs = []\n",
    "        self.processed_dict = {}\n",
    "        \n",
    "#         # Tokenized sentences\n",
    "#         self.sent_tokens = []\n",
    "#         # Flat list of setences\n",
    "#         self.flat_sent_tokens = []\n",
    "        \n",
    "    \n",
    "    def load_corpus(self):\n",
    "        with open(self.file_path, \"r\", encoding=\"utf8\") as corpus:\n",
    "            data = corpus.readlines()\n",
    "            for line in data:\n",
    "                self.raw_docs.append(line)\n",
    "        \n",
    "        self._corpus_loaded = True\n",
    "    \n",
    "    \n",
    "    def parse_corpus(self):\n",
    "        for line in self.raw_docs:\n",
    "#             parsed_line = json.loads(json_line)\n",
    "#             self.json_docs.append(parsed_json)\n",
    "            #print(line)\n",
    "            pass\n",
    "        \n",
    "        self._corpus_parsed = True\n",
    "    \n",
    "    \n",
    "#     def tokenize_sentences(self):\n",
    "\n",
    "#         for article in self.json_docs:\n",
    "#             content = article[\"content\"]\n",
    "#             sent_tokenized = sent_tokenize(content)\n",
    "#             self.sent_tokens.append(sent_tokenized)\n",
    "            \n",
    "#         self.flat_sent_tokens = list(itertools.chain.from_iterable(self.sent_tokens))\n",
    "        \n",
    "    \n",
    "    def print_summary_of_corpus(self):\n",
    "        if not self._corpus_loaded:\n",
    "            self.load_corpus()\n",
    "        \n",
    "        if not self._corpus_parsed:\n",
    "            self.parse_corpus()\n",
    "            \n",
    "#         if not self._sentence_tokenized:\n",
    "#             self.tokenize_sentences()\n",
    "            \n",
    "        print(\"Number of training samples: {}.\".format(str(len(self.raw_docs))))\n",
    "        \n",
    "#         print(\"Number of documents: {}.\".format(str(len(self.json_docs))))\n",
    "#         print(\"Number of sentences: {}.\".format(str(len(self.flat_sent_tokens))))\n",
    "    \n",
    "    \n",
    "#     def print_document(self, doc_idx):\n",
    "#         print(\"-- Printing document with index: {} --\".format(doc_idx))\n",
    "#         print(self.json_docs[doc_idx])\n",
    "\n",
    "    \n",
    "#     def get_document(self, doc_idx):\n",
    "#         return self.json_docs[doc_idx]\n",
    "    \n",
    "    \n",
    "#     def get_next_document(self):        \n",
    "#         self._document_view_pointer += 1\n",
    "#         if self._document_view_pointer > len(self.json_docs):\n",
    "#             return None\n",
    "#         else:\n",
    "#             return self.json_docs[(self._document_view_pointer - 1)]\n",
    "        \n",
    "    \n",
    "#     def set_current_document(self, json_doc):\n",
    "#         self.json_docs[(self._document_view_pointer - 1)] = json_doc\n",
    "    \n",
    "    \n",
    "#     def reset_pointer(self):\n",
    "#         self._document_view_pointer = 0\n",
    "        \n",
    "    \n",
    "#     def set_pointer(self, pointer):\n",
    "#         self._document_view_pointer = pointer        \n",
    "\n",
    "\n",
    "c = Corpus(FILE_NAME)\n",
    "c.load_corpus()\n",
    "c.parse_corpus()\n",
    "c.print_summary_of_corpus()"
   ]
  },
  {
   "cell_type": "code",
   "execution_count": 33,
   "metadata": {},
   "outputs": [
    {
     "name": "stdout",
     "output_type": "stream",
     "text": [
      "Key: 0 Val: Value: 0\n",
      "Key: 1 Val: Value: 2\n",
      "printing from dict:\n",
      "Key: 0 Val: Value: 100\n",
      "Key: 1 Val: Value: 1001\n"
     ]
    }
   ],
   "source": [
    "import pprint\n",
    "class X: \n",
    "    def __init__(self, val):\n",
    "        self.val = val\n",
    "    \n",
    "    def get_val(self):\n",
    "        return self.val\n",
    "    \n",
    "    def set_val(self, val):\n",
    "        self.val = val\n",
    "        \n",
    "    def __str__(self):\n",
    "        return \"Value: {}\".format(str(self.val))\n",
    "\n",
    "dic = {}\n",
    "\n",
    "x = X(0)\n",
    "y = X(2)\n",
    "\n",
    "dic[\"0\"] = x\n",
    "dic[\"1\"] = y\n",
    "\n",
    "for key in dic:\n",
    "    print(\"Key: {} Val: {}\".format(str(key), str(dic[key])))\n",
    "\n",
    "a = dic[\"0\"]\n",
    "b = dic[\"1\"]\n",
    "\n",
    "a.set_val(100)\n",
    "b.set_val(1001)\n",
    "\n",
    "print(\"printing from dict:\")\n",
    "\n",
    "for key in dic:\n",
    "    print(\"Key: {} Val: {}\".format(str(key), str(dic[key])))"
   ]
  },
  {
   "cell_type": "code",
   "execution_count": null,
   "metadata": {},
   "outputs": [],
   "source": []
  },
  {
   "cell_type": "code",
   "execution_count": null,
   "metadata": {},
   "outputs": [],
   "source": []
  },
  {
   "cell_type": "code",
   "execution_count": 12,
   "metadata": {},
   "outputs": [
    {
     "name": "stdout",
     "output_type": "stream",
     "text": [
      "Training myclassifier1\n",
      "twitter-test1.txt (myclassifier1): 0.000\n",
      "            positive  negative  neutral\n",
      "positive    0.000     0.000     0.000     \n",
      "negative    0.000     0.000     0.000     \n",
      "neutral     0.416     0.158     0.426     \n",
      "\n",
      "twitter-test2.txt (myclassifier1): 0.000\n",
      "            positive  negative  neutral\n",
      "positive    0.000     0.000     0.000     \n",
      "negative    0.000     0.000     0.000     \n",
      "neutral     0.530     0.109     0.361     \n",
      "\n",
      "twitter-test3.txt (myclassifier1): 0.000\n",
      "            positive  negative  neutral\n",
      "positive    0.000     0.000     0.000     \n",
      "negative    0.000     0.000     0.000     \n",
      "neutral     0.434     0.153     0.413     \n",
      "\n",
      "Training myclassifier2\n",
      "twitter-test1.txt (myclassifier2): 0.000\n",
      "            positive  negative  neutral\n",
      "positive    0.000     0.000     0.000     \n",
      "negative    0.000     0.000     0.000     \n",
      "neutral     0.416     0.158     0.426     \n",
      "\n",
      "twitter-test2.txt (myclassifier2): 0.000\n",
      "            positive  negative  neutral\n",
      "positive    0.000     0.000     0.000     \n",
      "negative    0.000     0.000     0.000     \n",
      "neutral     0.530     0.109     0.361     \n",
      "\n",
      "twitter-test3.txt (myclassifier2): 0.000\n",
      "            positive  negative  neutral\n",
      "positive    0.000     0.000     0.000     \n",
      "negative    0.000     0.000     0.000     \n",
      "neutral     0.434     0.153     0.413     \n",
      "\n",
      "Training myclassifier3\n",
      "twitter-test1.txt (myclassifier3): 0.000\n",
      "            positive  negative  neutral\n",
      "positive    0.000     0.000     0.000     \n",
      "negative    0.000     0.000     0.000     \n",
      "neutral     0.416     0.158     0.426     \n",
      "\n",
      "twitter-test2.txt (myclassifier3): 0.000\n",
      "            positive  negative  neutral\n",
      "positive    0.000     0.000     0.000     \n",
      "negative    0.000     0.000     0.000     \n",
      "neutral     0.530     0.109     0.361     \n",
      "\n",
      "twitter-test3.txt (myclassifier3): 0.000\n",
      "            positive  negative  neutral\n",
      "positive    0.000     0.000     0.000     \n",
      "negative    0.000     0.000     0.000     \n",
      "neutral     0.434     0.153     0.413     \n",
      "\n"
     ]
    }
   ],
   "source": [
    "\n",
    "\n",
    "\n",
    "for classifier in ['myclassifier1', 'myclassifier2', 'myclassifier3']: # You may rename the names of the classifiers to something more descriptive\n",
    "    if classifier == 'myclassifier1':\n",
    "        print('Training ' + classifier)\n",
    "        # TODO: extract features for training classifier1\n",
    "        # TODO: train sentiment classifier1\n",
    "    elif classifier == 'myclassifier2':\n",
    "        print('Training ' + classifier)\n",
    "        # TODO: extract features for training classifier2\n",
    "        # TODO: train sentiment classifier2\n",
    "    elif classifier == 'myclassifier3':\n",
    "        print('Training ' + classifier)\n",
    "        # TODO: extract features for training classifier3\n",
    "        # TODO: train sentiment classifier3\n",
    "\n",
    "    for testset in testsets.testsets:\n",
    "        # TODO: classify tweets in test set\n",
    "\n",
    "        predictions = {'163361196206957578': 'neutral', '768006053969268950': 'neutral', '742616104384772304': 'neutral', '102313285628711403': 'neutral', '653274888624828198': 'neutral'} # TODO: Remove this line, 'predictions' should be populated with the outputs of your classifier\n",
    "        evaluation.evaluate(predictions, testset, classifier)\n",
    "\n",
    "        evaluation.confusion(predictions, testset, classifier)\n"
   ]
  },
  {
   "cell_type": "code",
   "execution_count": null,
   "metadata": {},
   "outputs": [],
   "source": []
  }
 ],
 "metadata": {
  "kernelspec": {
   "display_name": "Python 3",
   "language": "python",
   "name": "python3"
  },
  "language_info": {
   "codemirror_mode": {
    "name": "ipython",
    "version": 3
   },
   "file_extension": ".py",
   "mimetype": "text/x-python",
   "name": "python",
   "nbconvert_exporter": "python",
   "pygments_lexer": "ipython3",
   "version": "3.6.1"
  }
 },
 "nbformat": 4,
 "nbformat_minor": 2
}
