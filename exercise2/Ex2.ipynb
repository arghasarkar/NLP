{
 "cells": [
  {
   "cell_type": "code",
   "execution_count": 8,
   "metadata": {},
   "outputs": [
    {
     "name": "stdout",
     "output_type": "stream",
     "text": [
      "The file has been found.\n"
     ]
    }
   ],
   "source": [
    "#!/usr/bin/env python3\n",
    "# -*- coding: utf-8 -*-\n",
    "import testsets\n",
    "import evaluation\n",
    "\n",
    "from os.path import normpath\n",
    "import os\n",
    "\n",
    "# TODO: load training data\n",
    "FILE_NAME = \"./twitter-dev-data.txt\"\n",
    "\n",
    "if os.path.isfile(FILE_NAME):\n",
    "    print(\"The file has been found.\")\n",
    "else:\n",
    "    raise IOError(\"File not found.\")"
   ]
  },
  {
   "cell_type": "markdown",
   "metadata": {},
   "source": [
    "# Corpus \n",
    "\n",
    "Corpus object to read the data and preprocess it"
   ]
  },
  {
   "cell_type": "code",
   "execution_count": null,
   "metadata": {},
   "outputs": [],
   "source": [
    "import json\n",
    "import itertools\n",
    "\n",
    "from nltk.tokenize import word_tokenize, wordpunct_tokenize, sent_tokenize\n",
    "\n",
    "class Corpus:\n",
    "    \n",
    "    def __init__(self, file_path):\n",
    "        # Private vars\n",
    "        self._corpus_loaded = False\n",
    "        self._corpus_parsed = False\n",
    "        self._sentence_tokenized = False\n",
    "        \n",
    "        self._document_view_pointer = 0\n",
    "        \n",
    "        self.file_path = file_path \n",
    "        # Checks if the file exists\n",
    "        if os.path.isfile(FILE_PATH):\n",
    "            print(\"The file has been found.\")\n",
    "        else:\n",
    "            raise IOError(\"File not found.\")\n",
    "        \n",
    "        self.raw_docs = []\n",
    "        self.json_docs = []\n",
    "        \n",
    "        # Tokenized sentences\n",
    "        self.sent_tokens = []\n",
    "        # Flat list of setences\n",
    "        self.flat_sent_tokens = []\n",
    "        \n",
    "    \n",
    "    def load_corpus(self):\n",
    "        with open(self.file_path, \"r\") as corpus:\n",
    "            for json_line in corpus:\n",
    "                self.raw_docs.append(json_line)\n",
    "        \n",
    "        self._corpus_loaded = True\n",
    "    \n",
    "    \n",
    "    def parse_corpus(self):\n",
    "        for json_line in self.raw_docs:\n",
    "            parsed_json = json.loads(json_line)\n",
    "            self.json_docs.append(parsed_json)\n",
    "        \n",
    "        self._corpus_parsed = True\n",
    "    \n",
    "    \n",
    "    def tokenize_sentences(self):\n",
    "\n",
    "        for article in self.json_docs:\n",
    "            content = article[\"content\"]\n",
    "            sent_tokenized = sent_tokenize(content)\n",
    "            self.sent_tokens.append(sent_tokenized)\n",
    "            \n",
    "        self.flat_sent_tokens = list(itertools.chain.from_iterable(self.sent_tokens))\n",
    "        \n",
    "    \n",
    "    def print_summary_of_corpus(self):\n",
    "        if not self._corpus_loaded:\n",
    "            self.load_corpus()\n",
    "        \n",
    "        if not self._corpus_parsed:\n",
    "            self.parse_corpus()\n",
    "            \n",
    "        if not self._sentence_tokenized:\n",
    "            self.tokenize_sentences()\n",
    "        \n",
    "        print(\"Number of documents: {}.\".format(str(len(self.json_docs))))\n",
    "        print(\"Number of sentences: {}.\".format(str(len(self.flat_sent_tokens))))\n",
    "    \n",
    "    \n",
    "    def print_document(self, doc_idx):\n",
    "        print(\"-- Printing document with index: {} --\".format(doc_idx))\n",
    "        print(self.json_docs[doc_idx])\n",
    "\n",
    "    \n",
    "    def get_document(self, doc_idx):\n",
    "        return self.json_docs[doc_idx]\n",
    "    \n",
    "    \n",
    "    def get_next_document(self):        \n",
    "        self._document_view_pointer += 1\n",
    "        if self._document_view_pointer > len(self.json_docs):\n",
    "            return None\n",
    "        else:\n",
    "            return self.json_docs[(self._document_view_pointer - 1)]\n",
    "        \n",
    "    \n",
    "    def set_current_document(self, json_doc):\n",
    "        self.json_docs[(self._document_view_pointer - 1)] = json_doc\n",
    "    \n",
    "    \n",
    "    def reset_pointer(self):\n",
    "        self._document_view_pointer = 0\n",
    "        \n",
    "    \n",
    "    def set_pointer(self, pointer):\n",
    "        self._document_view_pointer = pointer        \n"
   ]
  },
  {
   "cell_type": "code",
   "execution_count": 2,
   "metadata": {},
   "outputs": [
    {
     "name": "stdout",
     "output_type": "stream",
     "text": [
      "Training myclassifier1\n"
     ]
    },
    {
     "ename": "FileNotFoundError",
     "evalue": "[Errno 2] No such file or directory: 'twitter-test1.txt'",
     "output_type": "error",
     "traceback": [
      "\u001b[0;31m---------------------------------------------------------------------------\u001b[0m",
      "\u001b[0;31mFileNotFoundError\u001b[0m                         Traceback (most recent call last)",
      "\u001b[0;32m<ipython-input-2-82b0f0879f0a>\u001b[0m in \u001b[0;36m<module>\u001b[0;34m\u001b[0m\n\u001b[1;32m     24\u001b[0m \u001b[0;34m\u001b[0m\u001b[0m\n\u001b[1;32m     25\u001b[0m         \u001b[0mpredictions\u001b[0m \u001b[0;34m=\u001b[0m \u001b[0;34m{\u001b[0m\u001b[0;34m'163361196206957578'\u001b[0m\u001b[0;34m:\u001b[0m \u001b[0;34m'neutral'\u001b[0m\u001b[0;34m,\u001b[0m \u001b[0;34m'768006053969268950'\u001b[0m\u001b[0;34m:\u001b[0m \u001b[0;34m'neutral'\u001b[0m\u001b[0;34m,\u001b[0m \u001b[0;34m'742616104384772304'\u001b[0m\u001b[0;34m:\u001b[0m \u001b[0;34m'neutral'\u001b[0m\u001b[0;34m,\u001b[0m \u001b[0;34m'102313285628711403'\u001b[0m\u001b[0;34m:\u001b[0m \u001b[0;34m'neutral'\u001b[0m\u001b[0;34m,\u001b[0m \u001b[0;34m'653274888624828198'\u001b[0m\u001b[0;34m:\u001b[0m \u001b[0;34m'neutral'\u001b[0m\u001b[0;34m}\u001b[0m \u001b[0;31m# TODO: Remove this line, 'predictions' should be populated with the outputs of your classifier\u001b[0m\u001b[0;34m\u001b[0m\u001b[0m\n\u001b[0;32m---> 26\u001b[0;31m         \u001b[0mevaluation\u001b[0m\u001b[0;34m.\u001b[0m\u001b[0mevaluate\u001b[0m\u001b[0;34m(\u001b[0m\u001b[0mpredictions\u001b[0m\u001b[0;34m,\u001b[0m \u001b[0mtestset\u001b[0m\u001b[0;34m,\u001b[0m \u001b[0mclassifier\u001b[0m\u001b[0;34m)\u001b[0m\u001b[0;34m\u001b[0m\u001b[0m\n\u001b[0m\u001b[1;32m     27\u001b[0m \u001b[0;34m\u001b[0m\u001b[0m\n\u001b[1;32m     28\u001b[0m         \u001b[0mevaluation\u001b[0m\u001b[0;34m.\u001b[0m\u001b[0mconfusion\u001b[0m\u001b[0;34m(\u001b[0m\u001b[0mpredictions\u001b[0m\u001b[0;34m,\u001b[0m \u001b[0mtestset\u001b[0m\u001b[0;34m,\u001b[0m \u001b[0mclassifier\u001b[0m\u001b[0;34m)\u001b[0m\u001b[0;34m\u001b[0m\u001b[0m\n",
      "\u001b[0;32m~/Documents/UniversityWork/masters/cs918-nlp/exercise2/evaluation.py\u001b[0m in \u001b[0;36mevaluate\u001b[0;34m(id_preds, testset, classifier)\u001b[0m\n\u001b[1;32m     48\u001b[0m \u001b[0;34m\u001b[0m\u001b[0m\n\u001b[1;32m     49\u001b[0m \u001b[0;32mdef\u001b[0m \u001b[0mevaluate\u001b[0m\u001b[0;34m(\u001b[0m\u001b[0mid_preds\u001b[0m\u001b[0;34m,\u001b[0m \u001b[0mtestset\u001b[0m\u001b[0;34m,\u001b[0m \u001b[0mclassifier\u001b[0m\u001b[0;34m)\u001b[0m\u001b[0;34m:\u001b[0m\u001b[0;34m\u001b[0m\u001b[0m\n\u001b[0;32m---> 50\u001b[0;31m   \u001b[0mid_gts\u001b[0m \u001b[0;34m=\u001b[0m \u001b[0mread_test\u001b[0m\u001b[0;34m(\u001b[0m\u001b[0mtestset\u001b[0m\u001b[0;34m)\u001b[0m\u001b[0;34m\u001b[0m\u001b[0m\n\u001b[0m\u001b[1;32m     51\u001b[0m \u001b[0;34m\u001b[0m\u001b[0m\n\u001b[1;32m     52\u001b[0m   \u001b[0macc_by_class\u001b[0m \u001b[0;34m=\u001b[0m \u001b[0;34m{\u001b[0m\u001b[0;34m}\u001b[0m\u001b[0;34m\u001b[0m\u001b[0m\n",
      "\u001b[0;32m~/Documents/UniversityWork/masters/cs918-nlp/exercise2/evaluation.py\u001b[0m in \u001b[0;36mread_test\u001b[0;34m(testset)\u001b[0m\n\u001b[1;32m      1\u001b[0m \u001b[0;32mdef\u001b[0m \u001b[0mread_test\u001b[0m\u001b[0;34m(\u001b[0m\u001b[0mtestset\u001b[0m\u001b[0;34m)\u001b[0m\u001b[0;34m:\u001b[0m\u001b[0;34m\u001b[0m\u001b[0m\n\u001b[1;32m      2\u001b[0m   \u001b[0mid_gts\u001b[0m \u001b[0;34m=\u001b[0m \u001b[0;34m{\u001b[0m\u001b[0;34m}\u001b[0m\u001b[0;34m\u001b[0m\u001b[0m\n\u001b[0;32m----> 3\u001b[0;31m   \u001b[0;32mwith\u001b[0m \u001b[0mopen\u001b[0m\u001b[0;34m(\u001b[0m\u001b[0mtestset\u001b[0m\u001b[0;34m,\u001b[0m \u001b[0;34m'r'\u001b[0m\u001b[0;34m)\u001b[0m \u001b[0;32mas\u001b[0m \u001b[0mfh\u001b[0m\u001b[0;34m:\u001b[0m\u001b[0;34m\u001b[0m\u001b[0m\n\u001b[0m\u001b[1;32m      4\u001b[0m     \u001b[0;32mfor\u001b[0m \u001b[0mline\u001b[0m \u001b[0;32min\u001b[0m \u001b[0mfh\u001b[0m\u001b[0;34m:\u001b[0m\u001b[0;34m\u001b[0m\u001b[0m\n\u001b[1;32m      5\u001b[0m       \u001b[0mfields\u001b[0m \u001b[0;34m=\u001b[0m \u001b[0mline\u001b[0m\u001b[0;34m.\u001b[0m\u001b[0msplit\u001b[0m\u001b[0;34m(\u001b[0m\u001b[0;34m'\\t'\u001b[0m\u001b[0;34m)\u001b[0m\u001b[0;34m\u001b[0m\u001b[0m\n",
      "\u001b[0;31mFileNotFoundError\u001b[0m: [Errno 2] No such file or directory: 'twitter-test1.txt'"
     ]
    }
   ],
   "source": [
    "\n",
    "\n",
    "\n",
    "for classifier in ['myclassifier1', 'myclassifier2', 'myclassifier3']: # You may rename the names of the classifiers to something more descriptive\n",
    "    if classifier == 'myclassifier1':\n",
    "        print('Training ' + classifier)\n",
    "        # TODO: extract features for training classifier1\n",
    "        # TODO: train sentiment classifier1\n",
    "    elif classifier == 'myclassifier2':\n",
    "        print('Training ' + classifier)\n",
    "        # TODO: extract features for training classifier2\n",
    "        # TODO: train sentiment classifier2\n",
    "    elif classifier == 'myclassifier3':\n",
    "        print('Training ' + classifier)\n",
    "        # TODO: extract features for training classifier3\n",
    "        # TODO: train sentiment classifier3\n",
    "\n",
    "    for testset in testsets.testsets:\n",
    "        # TODO: classify tweets in test set\n",
    "\n",
    "        predictions = {'163361196206957578': 'neutral', '768006053969268950': 'neutral', '742616104384772304': 'neutral', '102313285628711403': 'neutral', '653274888624828198': 'neutral'} # TODO: Remove this line, 'predictions' should be populated with the outputs of your classifier\n",
    "        evaluation.evaluate(predictions, testset, classifier)\n",
    "\n",
    "        evaluation.confusion(predictions, testset, classifier)\n"
   ]
  },
  {
   "cell_type": "code",
   "execution_count": null,
   "metadata": {},
   "outputs": [],
   "source": []
  }
 ],
 "metadata": {
  "kernelspec": {
   "display_name": "Python 3",
   "language": "python",
   "name": "python3"
  },
  "language_info": {
   "codemirror_mode": {
    "name": "ipython",
    "version": 3
   },
   "file_extension": ".py",
   "mimetype": "text/x-python",
   "name": "python",
   "nbconvert_exporter": "python",
   "pygments_lexer": "ipython3",
   "version": "3.6.1"
  }
 },
 "nbformat": 4,
 "nbformat_minor": 2
}
