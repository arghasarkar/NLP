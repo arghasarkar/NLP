{
 "cells": [
  {
   "cell_type": "code",
   "execution_count": 2,
   "metadata": {},
   "outputs": [],
   "source": [
    "import nltk\n",
    "from nltk.corpus import stopwords\n",
    "from nltk.tokenize import word_tokenize"
   ]
  },
  {
   "cell_type": "code",
   "execution_count": 38,
   "metadata": {},
   "outputs": [
    {
     "data": {
      "text/plain": [
       "\"From fairest creatures we desire increase,\\n  That thereby beauty's rose might never die,\\n  But as the riper should by time decease,\\n  His tender heir might bear his memory:\\n  But thou contracted to thine own bright eyes,\\n  Feed'st thy light's flame with self-substantial fuel,\\n  Making a famine where abundance lies,\\n  Thy self thy foe, to thy sweet self too cruel:\\n  Thou that art now the world's fresh ornament,\\n  And only herald to the gaudy spring,\\n  Within thine own bud buriest thy content,\\n  And tende\""
      ]
     },
     "execution_count": 38,
     "metadata": {},
     "output_type": "execute_result"
    }
   ],
   "source": [
    "file_path = \"shakes.txt\"\n",
    "file = open(file_path, \"r\")\n",
    "text = file.read()\n",
    "\n",
    "# Print the a part of the text\n",
    "text[7492:8000]"
   ]
  },
  {
   "cell_type": "markdown",
   "metadata": {},
   "source": [
    "### Taking the raw text and generating the tokens from it. The tokens are stored in a list here."
   ]
  },
  {
   "cell_type": "code",
   "execution_count": 45,
   "metadata": {},
   "outputs": [],
   "source": [
    "word_tokens = word_tokenize(text)"
   ]
  },
  {
   "cell_type": "code",
   "execution_count": 61,
   "metadata": {},
   "outputs": [
    {
     "name": "stdout",
     "output_type": "stream",
     "text": [
      "['From', 'fairest', 'creatures', 'we', 'desire', 'increase', ',', 'That', 'thereby', 'beauty', \"'s\", 'rose', 'might', 'never', 'die', ',', 'But', 'as', 'the', 'riper', 'should']\n",
      "\n",
      "Length: 1134201\n"
     ]
    }
   ],
   "source": [
    "print(word_tokens[1399:1420])\n",
    "print(\"\\nLength: {}\".format(len(word_tokens)))"
   ]
  },
  {
   "cell_type": "markdown",
   "metadata": {},
   "source": [
    "### Getting the English stop words from NLTK"
   ]
  },
  {
   "cell_type": "code",
   "execution_count": 41,
   "metadata": {},
   "outputs": [
    {
     "name": "stdout",
     "output_type": "stream",
     "text": [
      "{'while', 'wasn', \"needn't\", 'most', 'we', 'your', 're', 'don', 'each', 'did', 'some', 'under', 'didn', 'won', 'no', 'be', 'only', 'but', 'for', 'both', 've', 'is', 'at', 'yourself', 'same', \"aren't\", \"she's\", 'more', 'too', \"won't\", 'again', 'those', 'further', \"weren't\", 'my', 'have', 'which', 'other', 'weren', 'mustn', 'few', 'should', 'in', \"mustn't\", 'nor', \"shouldn't\", 'having', \"wouldn't\", 'or', 'if', 'they', 'as', 'before', 'ma', 'an', 'their', 'she', \"shan't\", 'of', \"mightn't\", 'm', 'to', 'by', 'isn', 'ourselves', 'him', 'with', 'his', 'below', \"didn't\", 'itself', 'couldn', 'her', 'are', 'does', 'been', 'ain', 'out', 'do', 'between', 'these', 'own', 's', \"you're\", 'there', 'doesn', 'shouldn', 'this', 'than', 'you', 'i', 'once', 'y', 'herself', 'who', 'so', 'through', 'then', 'into', 'during', 'until', 'will', 'here', 'whom', 'how', \"you'd\", 'the', 'ours', \"don't\", \"couldn't\", 'had', 'them', 'me', \"doesn't\", \"it's\", 'yourselves', 'wouldn', 'because', 'not', 'he', 'themselves', 'its', 'what', 'against', 'all', 'll', 'down', \"hasn't\", 'when', \"wasn't\", 'aren', 'about', 'd', 'hadn', 'where', 'haven', 'it', 'very', 'theirs', 'am', 'up', 'was', 'our', 'any', 'that', 'has', \"you'll\", 'now', 'o', 'just', 'yours', 'can', 'a', 'such', 'himself', 'above', \"haven't\", 'on', 'mightn', 'needn', \"isn't\", 'shan', \"that'll\", 'over', 'doing', 'being', \"should've\", 'from', 'hers', 'hasn', 'off', 'were', 'and', 'why', \"hadn't\", 't', \"you've\", 'after', 'myself'}\n",
      "\n",
      "Length: 179\n"
     ]
    }
   ],
   "source": [
    "stop_words = set(stopwords.words('english'))\n",
    "print(stop_words)\n",
    "print(\"\\nLength: {}\".format(len(stop_words)))"
   ]
  },
  {
   "cell_type": "markdown",
   "metadata": {},
   "source": [
    "### Converting the list of stop words from a list to a set \n",
    "\n",
    "By converting the list to a set, it allows for much faster existence check. \n",
    "\n",
    "This is similar to **HashSet** in Java."
   ]
  },
  {
   "cell_type": "code",
   "execution_count": 67,
   "metadata": {},
   "outputs": [
    {
     "name": "stdout",
     "output_type": "stream",
     "text": [
      "{'while', 'wasn', \"needn't\", 'most', 'we', 'your', 're', 'don', 'each', 'did', 'some', 'under', 'didn', 'won', 'no', 'be', 'only', 'but', 'for', 'both', 've', 'is', 'at', 'yourself', 'same', \"aren't\", \"she's\", 'more', 'too', \"won't\", 'again', 'those', 'further', \"weren't\", 'my', 'have', 'which', 'other', 'weren', 'mustn', 'few', 'should', 'in', \"mustn't\", 'nor', \"shouldn't\", 'having', \"wouldn't\", 'or', 'if', 'they', 'as', 'before', 'ma', 'an', 'their', 'she', \"shan't\", 'of', \"mightn't\", 'm', 'to', 'by', 'isn', 'ourselves', 'him', 'with', 'his', 'below', \"didn't\", 'itself', 'couldn', 'her', 'are', 'does', 'been', 'ain', 'out', 'do', 'between', 'these', 'own', 's', \"you're\", 'there', 'doesn', 'shouldn', 'this', 'than', 'you', 'i', 'once', 'y', 'herself', 'who', 'so', 'through', 'then', 'into', 'during', 'until', 'will', 'here', 'whom', 'how', \"you'd\", 'the', 'ours', \"don't\", \"couldn't\", 'had', 'them', 'me', \"doesn't\", \"it's\", 'yourselves', 'wouldn', 'because', 'not', 'he', 'themselves', 'its', 'what', 'against', 'all', 'll', 'down', \"hasn't\", 'when', \"wasn't\", 'aren', 'about', 'd', 'hadn', 'where', 'haven', 'it', 'very', 'theirs', 'am', 'up', 'was', 'our', 'any', 'that', 'has', \"you'll\", 'now', 'o', 'just', 'yours', 'can', 'a', 'such', 'himself', 'above', \"haven't\", 'on', 'mightn', 'needn', \"isn't\", 'shan', \"that'll\", 'over', 'doing', 'being', \"should've\", 'from', 'hers', 'hasn', 'off', 'were', 'and', 'why', \"hadn't\", 't', \"you've\", 'after', 'myself'}\n"
     ]
    }
   ],
   "source": [
    "stop_words_set = set(stop_words)\n",
    "print(stop_words_dict)"
   ]
  },
  {
   "cell_type": "code",
   "execution_count": 68,
   "metadata": {},
   "outputs": [],
   "source": [
    "filtered_text = [w for w in word_tokens if w not in stop_words_dict]"
   ]
  },
  {
   "cell_type": "code",
   "execution_count": 69,
   "metadata": {},
   "outputs": [
    {
     "name": "stdout",
     "output_type": "stream",
     "text": [
      "Length of filtered text: 805866\n"
     ]
    }
   ],
   "source": [
    "print(\"Length of filtered text: {}\".format(len(filtered_text)))"
   ]
  }
 ],
 "metadata": {
  "kernelspec": {
   "display_name": "Python 3",
   "language": "python",
   "name": "python3"
  },
  "language_info": {
   "codemirror_mode": {
    "name": "ipython",
    "version": 3
   },
   "file_extension": ".py",
   "mimetype": "text/x-python",
   "name": "python",
   "nbconvert_exporter": "python",
   "pygments_lexer": "ipython3",
   "version": "3.7.0"
  }
 },
 "nbformat": 4,
 "nbformat_minor": 2
}
