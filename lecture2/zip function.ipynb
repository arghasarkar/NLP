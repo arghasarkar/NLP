{
 "cells": [
  {
   "cell_type": "markdown",
   "metadata": {},
   "source": [
    "# Investigating zip()\n",
    "\n",
    "Investigating what happens when the two arguments to the **zip** function are of different lengths.\n",
    "\n",
    "The example below should work correctly."
   ]
  },
  {
   "cell_type": "code",
   "execution_count": 3,
   "metadata": {},
   "outputs": [
    {
     "name": "stdout",
     "output_type": "stream",
     "text": [
      "[('a', 1), ('b', 2), ('c', 3), ('d', 4), ('e', 5)]\n"
     ]
    }
   ],
   "source": [
    "list_a = [\"a\", \"b\", \"c\", \"d\", \"e\"]\n",
    "list_b = [1, 2, 3, 4, 5]\n",
    "\n",
    "zipped = zip(list_a, list_b)\n",
    "zipped_list = list(zipped)\n",
    "\n",
    "print(zipped_list)"
   ]
  },
  {
   "cell_type": "markdown",
   "metadata": {},
   "source": [
    "The example below has different lengths. The number of tuples created will be equal to the length of the smaller list."
   ]
  },
  {
   "cell_type": "code",
   "execution_count": 7,
   "metadata": {},
   "outputs": [
    {
     "name": "stdout",
     "output_type": "stream",
     "text": [
      "[('a', 1), ('b', 2), ('c', 3)]\n"
     ]
    }
   ],
   "source": [
    "list_c = [1, 2, 3]\n",
    "\n",
    "bad_zipped = zip(list_a, list_c)\n",
    "bad_zipped_list = list(bad_zipped)\n",
    "\n",
    "print(bad_zipped_list)"
   ]
  }
 ],
 "metadata": {
  "kernelspec": {
   "display_name": "Python 3",
   "language": "python",
   "name": "python3"
  },
  "language_info": {
   "codemirror_mode": {
    "name": "ipython",
    "version": 3
   },
   "file_extension": ".py",
   "mimetype": "text/x-python",
   "name": "python",
   "nbconvert_exporter": "python",
   "pygments_lexer": "ipython3",
   "version": "3.7.0"
  }
 },
 "nbformat": 4,
 "nbformat_minor": 2
}
