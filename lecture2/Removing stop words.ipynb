{
 "cells": [
  {
   "cell_type": "markdown",
   "metadata": {},
   "source": [
    "# Tokenization and filtering stop words\n",
    "\n",
    "This notebook looks at loading up texts from *Shakespear* and attempts to remove stop words from it. "
   ]
  },
  {
   "cell_type": "code",
   "execution_count": 1,
   "metadata": {},
   "outputs": [],
   "source": [
    "import nltk\n",
    "from nltk.corpus import stopwords\n",
    "from nltk.tokenize import word_tokenize"
   ]
  },
  {
   "cell_type": "markdown",
   "metadata": {},
   "source": [
    "### Loads up the text inside the file into a variable"
   ]
  },
  {
   "cell_type": "code",
   "execution_count": 2,
   "metadata": {},
   "outputs": [
    {
     "data": {
      "text/plain": [
       "\"From fairest creatures we desire increase,\\n  That thereby beauty's rose might never die,\\n  But as the riper should by time decease,\\n  His tender heir might bear his memory:\\n  But thou contracted to thine own bright eyes,\\n  Feed'st thy light's flame with self-substantial fuel,\\n  Making a famine where abundance lies,\\n  Thy self thy foe, to thy sweet self too cruel:\\n  Thou that art now the world's fresh ornament,\\n  And only herald to the gaudy spring,\\n  Within thine own bud buriest thy content,\\n  And tende\""
      ]
     },
     "execution_count": 2,
     "metadata": {},
     "output_type": "execute_result"
    }
   ],
   "source": [
    "file_path = \"shakes.txt\"\n",
    "with open(file_path, \"r\") as file:\n",
    "    text = file.read()\n",
    "\n",
    "# Print the a part of the text\n",
    "text[7492:8000]"
   ]
  },
  {
   "cell_type": "markdown",
   "metadata": {},
   "source": [
    "### Taking the raw text and generating the tokens from it. The tokens are stored in a list here."
   ]
  },
  {
   "cell_type": "code",
   "execution_count": 3,
   "metadata": {},
   "outputs": [],
   "source": [
    "word_tokens = word_tokenize(text)"
   ]
  },
  {
   "cell_type": "code",
   "execution_count": 4,
   "metadata": {},
   "outputs": [
    {
     "name": "stdout",
     "output_type": "stream",
     "text": [
      "['From', 'fairest', 'creatures', 'we', 'desire', 'increase', ',', 'That', 'thereby', 'beauty', \"'s\", 'rose', 'might', 'never', 'die', ',', 'But', 'as', 'the', 'riper', 'should']\n",
      "\n",
      "Length: 1134201\n"
     ]
    }
   ],
   "source": [
    "print(word_tokens[1399:1420])\n",
    "print(\"\\nLength: {}\".format(len(word_tokens)))"
   ]
  },
  {
   "cell_type": "markdown",
   "metadata": {},
   "source": [
    "### Getting the English stop words from NLTK"
   ]
  },
  {
   "cell_type": "code",
   "execution_count": 5,
   "metadata": {},
   "outputs": [
    {
     "name": "stdout",
     "output_type": "stream",
     "text": [
      "{\"haven't\", 'hers', \"mustn't\", 'his', 'didn', 'during', \"wouldn't\", 'had', 'being', 'down', 'myself', 'these', 'yours', 'was', \"it's\", 'into', 'whom', 'above', \"should've\", 'haven', 'off', 'himself', 'doing', 'below', 'with', 'where', 'has', 'aren', \"hadn't\", 'isn', \"won't\", 'can', \"needn't\", 'theirs', \"shan't\", 'were', 'them', 'about', 'so', \"shouldn't\", 'but', \"mightn't\", \"weren't\", 'such', 'they', 'o', 'couldn', 'our', 'there', 'should', 'been', 'what', 'this', 'both', 'ma', 'from', 'few', 'ours', \"that'll\", 'just', 'needn', 'i', 'same', 'not', 'which', 'who', \"you've\", \"she's\", 'are', 'shouldn', 'their', 'it', 'again', 'you', 'my', 'wouldn', 'more', 'most', 'why', 'herself', 'is', 'any', 'until', 'to', 'her', 'me', 'your', 'in', 'ain', 'have', 'he', 'here', 'itself', 'did', 'does', 'against', 'once', 'further', 'yourselves', 'between', 'when', 'nor', 'while', 'd', 'doesn', 'for', 'all', \"you'll\", 'after', 'be', 'out', 'mightn', 'under', 'will', 'am', 'through', 'how', 'no', 'll', 'mustn', \"you'd\", 'him', 'hadn', \"wasn't\", 'm', 's', 'won', 'those', 'on', 'the', 'of', 'weren', 'and', 'other', 'yourself', 'she', 'each', 'do', 'too', 'y', 'at', 'up', \"hasn't\", 't', 'ourselves', 're', 'that', 'then', 'hasn', 'an', 'before', 'themselves', \"don't\", 'only', 'because', 'now', 'than', 'don', 'over', 'shan', 'having', 'a', \"aren't\", 'its', 'some', \"couldn't\", \"you're\", 'by', 'we', \"didn't\", 'or', 'if', 've', 'as', 'own', \"isn't\", 'wasn', 'very', \"doesn't\"}\n",
      "\n",
      "Length: 179\n"
     ]
    }
   ],
   "source": [
    "stop_words = set(stopwords.words('english'))\n",
    "print(stop_words)\n",
    "print(\"\\nLength: {}\".format(len(stop_words)))"
   ]
  },
  {
   "cell_type": "markdown",
   "metadata": {},
   "source": [
    "### Converting the list of stop words from a list to a set \n",
    "\n",
    "By converting the list to a set, it allows for much faster existence check. \n",
    "\n",
    "This is similar to **HashSet** in Java."
   ]
  },
  {
   "cell_type": "code",
   "execution_count": 6,
   "metadata": {},
   "outputs": [
    {
     "name": "stdout",
     "output_type": "stream",
     "text": [
      "{\"haven't\", 'hers', \"mustn't\", 'his', 'didn', 'during', \"wouldn't\", 'had', 'being', 'down', 'myself', 'these', 'yours', 'was', \"it's\", 'into', 'whom', 'above', \"should've\", 'haven', 'off', 'himself', 'doing', 'below', 'with', 'where', 'has', 'aren', \"hadn't\", 'isn', \"won't\", 'can', \"needn't\", 'theirs', \"shan't\", 'were', 'them', 'about', 'so', \"shouldn't\", 'but', \"mightn't\", \"weren't\", 'such', 'they', 'o', 'couldn', 'our', 'there', 'should', 'been', 'what', 'this', 'both', 'ma', 'from', 'few', 'ours', \"that'll\", 'just', 'needn', 'i', 'same', 'not', 'which', 'who', \"you've\", \"she's\", 'are', 'shouldn', 'their', 'it', 'again', 'you', 'my', 'wouldn', 'more', 'most', 'why', 'herself', 'is', 'any', 'until', 'to', 'her', 'me', 'your', 'in', 'ain', 'have', 'he', 'here', 'itself', 'did', 'does', 'against', 'once', 'further', 'yourselves', 'between', 'when', 'nor', 'while', 'd', 'doesn', 'for', 'all', \"you'll\", 'after', 'be', 'out', 'mightn', 'under', 'will', 'am', 'through', 'how', 'no', 'll', 'mustn', \"you'd\", 'him', 'hadn', \"wasn't\", 'm', 's', 'won', 'those', 'on', 'the', 'of', 'weren', 'and', 'other', 'yourself', 'she', 'each', 'do', 'too', 'y', 'at', 'up', \"hasn't\", 't', 'ourselves', 're', 'that', 'then', 'hasn', 'an', 'before', 'themselves', \"don't\", 'only', 'because', 'now', 'than', 'don', 'over', 'shan', 'having', 'a', \"aren't\", 'its', 'some', \"couldn't\", \"you're\", 'by', 'we', \"didn't\", 'or', 'if', 've', 'as', 'own', \"isn't\", 'wasn', 'very', \"doesn't\"}\n"
     ]
    }
   ],
   "source": [
    "stop_words_set = set(stop_words)\n",
    "print(stop_words_set)"
   ]
  },
  {
   "cell_type": "code",
   "execution_count": 7,
   "metadata": {},
   "outputs": [],
   "source": [
    "filtered_text = [w for w in word_tokens if w not in stop_words_set]"
   ]
  },
  {
   "cell_type": "code",
   "execution_count": 8,
   "metadata": {},
   "outputs": [
    {
     "name": "stdout",
     "output_type": "stream",
     "text": [
      "Length of filtered text: 805866\n"
     ]
    }
   ],
   "source": [
    "print(\"Length of filtered text: {}\".format(len(filtered_text)))"
   ]
  }
 ],
 "metadata": {
  "kernelspec": {
   "display_name": "Python 3",
   "language": "python",
   "name": "python3"
  },
  "language_info": {
   "codemirror_mode": {
    "name": "ipython",
    "version": 3
   },
   "file_extension": ".py",
   "mimetype": "text/x-python",
   "name": "python",
   "nbconvert_exporter": "python",
   "pygments_lexer": "ipython3",
   "version": "3.7.0"
  }
 },
 "nbformat": 4,
 "nbformat_minor": 2
}
